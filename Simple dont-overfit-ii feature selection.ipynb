{
 "cells": [
  {
   "cell_type": "code",
   "execution_count": 1,
   "metadata": {},
   "outputs": [],
   "source": [
    "import random\n",
    "from deap import base, creator, tools, algorithms\n",
    "\n",
    "import warnings\n",
    "warnings.filterwarnings('ignore')\n",
    "\n",
    "%matplotlib inline"
   ]
  },
  {
   "cell_type": "markdown",
   "metadata": {},
   "source": [
    "## Prepare data for Experiment"
   ]
  },
  {
   "cell_type": "code",
   "execution_count": 2,
   "metadata": {},
   "outputs": [],
   "source": [
    "import pandas as pd\n",
    "import numpy as np\n",
    "import zipfile"
   ]
  },
  {
   "cell_type": "code",
   "execution_count": 3,
   "metadata": {},
   "outputs": [],
   "source": [
    "zf = zipfile.ZipFile('dont-overfit-ii.zip')\n",
    "train = pd.read_csv(zf.open('train.csv'))\n",
    "test = pd.read_csv(zf.open('test.csv'))"
   ]
  },
  {
   "cell_type": "code",
   "execution_count": 4,
   "metadata": {},
   "outputs": [],
   "source": [
    "X = train.drop(['id', 'target'], axis=1)\n",
    "y = train['target']"
   ]
  },
  {
   "cell_type": "code",
   "execution_count": 5,
   "metadata": {},
   "outputs": [],
   "source": [
    "from sklearn.linear_model import LogisticRegression\n",
    "from sklearn.model_selection import cross_val_score"
   ]
  },
  {
   "cell_type": "markdown",
   "metadata": {},
   "source": [
    "## Create a problem type and type of an individual"
   ]
  },
  {
   "cell_type": "code",
   "execution_count": 6,
   "metadata": {},
   "outputs": [],
   "source": [
    "creator.create(\"FitnessMax\", base.Fitness, weights=(1.0,))\n",
    "creator.create(\"Individual\", list, fitness=creator.FitnessMax)"
   ]
  },
  {
   "cell_type": "markdown",
   "metadata": {},
   "source": [
    "## Set Toolbox"
   ]
  },
  {
   "cell_type": "code",
   "execution_count": 7,
   "metadata": {},
   "outputs": [],
   "source": [
    "toolbox = base.Toolbox()\n",
    "toolbox.register(\"attr_bool\", random.choice, [False, True])\n",
    "toolbox.register(\"individual\", tools.initRepeat, creator.Individual, toolbox.attr_bool, n=X.shape[1])\n",
    "toolbox.register(\"population\", tools.initRepeat, list, toolbox.individual)"
   ]
  },
  {
   "cell_type": "markdown",
   "metadata": {},
   "source": [
    "## Create fitness function (evaluation function)"
   ]
  },
  {
   "cell_type": "code",
   "execution_count": 8,
   "metadata": {},
   "outputs": [],
   "source": [
    "def evalOneMax(individual):\n",
    "    return np.mean(cross_val_score(LogisticRegression(), X.iloc[:,individual], y, cv=3)),"
   ]
  },
  {
   "cell_type": "markdown",
   "metadata": {},
   "source": [
    "## Register Genetic Operators"
   ]
  },
  {
   "cell_type": "code",
   "execution_count": 9,
   "metadata": {},
   "outputs": [],
   "source": [
    "toolbox.register(\"evaluate\", evalOneMax)\n",
    "toolbox.register(\"mate\", tools.cxTwoPoint)\n",
    "toolbox.register(\"mutate\", tools.mutFlipBit, indpb=0.01)\n",
    "toolbox.register(\"select\", tools.selTournament, tournsize=3)"
   ]
  },
  {
   "cell_type": "markdown",
   "metadata": {},
   "source": [
    "## Create pipeline for Experiment"
   ]
  },
  {
   "cell_type": "code",
   "execution_count": 10,
   "metadata": {},
   "outputs": [],
   "source": [
    "def main():\n",
    "    import numpy\n",
    "    \n",
    "    pop = toolbox.population(n=50)\n",
    "    hof = tools.HallOfFame(1)\n",
    "    stats = tools.Statistics(lambda ind: ind.fitness.values)\n",
    "    stats.register(\"avg\", numpy.mean)\n",
    "    stats.register(\"min\", numpy.min)\n",
    "    stats.register(\"max\", numpy.max)\n",
    "    \n",
    "    pop, logbook = algorithms.eaSimple(pop, toolbox, cxpb=0.5, mutpb=0.1, ngen=10, stats=stats, halloffame=hof, verbose=True)\n",
    "    \n",
    "    return pop, logbook, hof"
   ]
  },
  {
   "cell_type": "markdown",
   "metadata": {},
   "source": [
    "## Run the Experiment and report the results"
   ]
  },
  {
   "cell_type": "code",
   "execution_count": 11,
   "metadata": {},
   "outputs": [
    {
     "name": "stdout",
     "output_type": "stream",
     "text": [
      "gen\tnevals\tavg     \tmin     \tmax    \n",
      "0  \t50    \t0.637339\t0.528017\t0.71988\n",
      "1  \t27    \t0.672931\t0.58778 \t0.719927\n",
      "2  \t27    \t0.704391\t0.619956\t0.755833\n",
      "3  \t18    \t0.720703\t0.684022\t0.755833\n",
      "4  \t30    \t0.73047 \t0.699895\t0.755881\n",
      "5  \t28    \t0.738224\t0.67991 \t0.755881\n",
      "6  \t32    \t0.746814\t0.711943\t0.759897\n",
      "7  \t32    \t0.750181\t0.727912\t0.763817\n",
      "8  \t24    \t0.75409 \t0.695974\t0.763865\n",
      "9  \t15    \t0.758171\t0.723991\t0.775913\n",
      "10 \t26    \t0.758011\t0.731736\t0.775913\n",
      "Best individual is: [True, True, True, True, True, True, True, True, True, False, True, False, True, False, False, False, True, False, True, True, True, True, False, True, True, False, False, True, False, True, True, False, True, True, True, False, False, True, False, True, False, False, True, False, False, True, True, False, False, False, False, False, True, False, False, False, True, True, False, False, False, True, False, True, True, True, False, True, True, True, True, False, False, True, True, False, True, True, False, False, True, True, False, False, True, True, True, True, False, False, False, False, False, True, True, True, True, True, False, False, True, False, False, True, False, False, True, True, True, False, True, True, False, False, False, True, False, False, True, False, False, True, False, False, False, False, True, True, True, False, False, False, False, False, True, True, False, True, False, True, False, False, False, True, False, True, True, True, False, False, True, True, False, False, False, False, True, True, True, False, True, False, False, True, False, False, False, False, False, False, False, True, False, True, True, False, True, True, False, True, True, False, False, False, True, False, True, False, False, False, False, False, False, True, False, False, True, True, True, False, True, True, False, True, False, True, True, False, True, False, True, False, True, True, True, True, False, True, False, False, False, True, True, True, False, True, True, False, True, False, True, True, False, False, False, False, True, False, True, False, True, True, False, False, True, True, True, False, False, False, True, True, False, True, True, False, False, True, True, True, True, True, False, True, False, True, False, False, False, False, False, True, True, True, False, True, False, False, False, True, False, False, False, True, False, False, True, False, False, False, True, True, False, False, True, True, True, False, False, False]\n",
      "with fitness: (0.7759131765155862,)\n"
     ]
    },
    {
     "data": {
      "image/png": "[encoded data removed]",
      "text/plain": [
       "<Figure size 432x288 with 1 Axes>"
      ]
     },
     "metadata": {
      "needs_background": "light"
     },
     "output_type": "display_data"
    }
   ],
   "source": [
    "if __name__ == \"__main__\":\n",
    "    pop, log, hof = main()\n",
    "    print(\"Best individual is: %s\\nwith fitness: %s\" % (hof[0], hof[0].fitness))\n",
    "    \n",
    "    import matplotlib.pyplot as plt\n",
    "    gen, avg, min_, max_ = log.select(\"gen\", \"avg\", \"min\", \"max\")\n",
    "    plt.plot(gen, avg, label=\"average\")\n",
    "    plt.plot(gen, min_, label=\"minimum\")\n",
    "    plt.plot(gen, max_, label=\"maximum\")\n",
    "    plt.xlabel(\"Generation\")\n",
    "    plt.ylabel(\"Fitness\")\n",
    "    plt.legend(loc=\"lower right\")\n",
    "    plt.show()"
   ]
  },
  {
   "cell_type": "code",
   "execution_count": 12,
   "metadata": {},
   "outputs": [
    {
     "name": "stdout",
     "output_type": "stream",
     "text": [
      "The number of used columns of the best individual: 146\n"
     ]
    }
   ],
   "source": [
    "print(\"The number of used columns of the best individual: %s\" % np.sum(hof[0]))"
   ]
  },
  {
   "cell_type": "code",
   "execution_count": null,
   "metadata": {},
   "outputs": [],
   "source": []
  }
 ],
 "metadata": {
  "kernelspec": {
   "display_name": "Python 3",
   "language": "python",
   "name": "python3"
  },
  "language_info": {
   "codemirror_mode": {
    "name": "ipython",
    "version": 3
   },
   "file_extension": ".py",
   "mimetype": "text/x-python",
   "name": "python",
   "nbconvert_exporter": "python",
   "pygments_lexer": "ipython3",
   "version": "3.6.8"
  }
 },
 "nbformat": 4,
 "nbformat_minor": 2
}
